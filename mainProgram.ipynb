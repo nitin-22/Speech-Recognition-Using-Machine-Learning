{
 "cells": [
  {
   "cell_type": "markdown",
   "metadata": {},
   "source": [
    "Install the Librosa, Keras, TesnorFlow and sound packages"
   ]
  },
  {
   "cell_type": "code",
   "execution_count": 83,
   "metadata": {},
   "outputs": [
    {
     "name": "stdout",
     "output_type": "stream",
     "text": [
      "Requirement already satisfied: librosa in c:\\users\\16313\\anaconda3\\lib\\site-packages (0.7.2)\n",
      "Requirement already satisfied: scipy>=1.0.0 in c:\\users\\16313\\anaconda3\\lib\\site-packages (from librosa) (1.4.1)\n",
      "Requirement already satisfied: six>=1.3 in c:\\users\\16313\\anaconda3\\lib\\site-packages (from librosa) (1.12.0)\n",
      "Requirement already satisfied: decorator>=3.0.0 in c:\\users\\16313\\anaconda3\\lib\\site-packages (from librosa) (4.4.0)\n",
      "Requirement already satisfied: scikit-learn!=0.19.0,>=0.14.0 in c:\\users\\16313\\anaconda3\\lib\\site-packages (from librosa) (0.21.3)\n",
      "Requirement already satisfied: numpy>=1.15.0 in c:\\users\\16313\\anaconda3\\lib\\site-packages (from librosa) (1.16.5)\n",
      "Requirement already satisfied: audioread>=2.0.0 in c:\\users\\16313\\anaconda3\\lib\\site-packages (from librosa) (2.1.8)\n",
      "Requirement already satisfied: soundfile>=0.9.0 in c:\\users\\16313\\anaconda3\\lib\\site-packages (from librosa) (0.10.3.post1)\n",
      "Requirement already satisfied: numba>=0.43.0 in c:\\users\\16313\\anaconda3\\lib\\site-packages (from librosa) (0.45.1)\n",
      "Requirement already satisfied: resampy>=0.2.2 in c:\\users\\16313\\anaconda3\\lib\\site-packages (from librosa) (0.2.2)\n",
      "Requirement already satisfied: joblib>=0.12 in c:\\users\\16313\\anaconda3\\lib\\site-packages (from librosa) (0.13.2)\n",
      "Requirement already satisfied: cffi>=1.0 in c:\\users\\16313\\anaconda3\\lib\\site-packages (from soundfile>=0.9.0->librosa) (1.12.3)\n",
      "Requirement already satisfied: llvmlite>=0.29.0dev0 in c:\\users\\16313\\anaconda3\\lib\\site-packages (from numba>=0.43.0->librosa) (0.29.0)\n",
      "Requirement already satisfied: pycparser in c:\\users\\16313\\anaconda3\\lib\\site-packages (from cffi>=1.0->soundfile>=0.9.0->librosa) (2.19)\n"
     ]
    }
   ],
   "source": [
    "import sys\n",
    "!{sys.executable} -m pip install librosa"
   ]
  },
  {
   "cell_type": "code",
   "execution_count": 10,
   "metadata": {},
   "outputs": [
    {
     "name": "stdout",
     "output_type": "stream",
     "text": [
      "Requirement already satisfied: keras in c:\\users\\16313\\anaconda3\\lib\\site-packages (2.3.1)\n",
      "Requirement already satisfied: numpy>=1.9.1 in c:\\users\\16313\\anaconda3\\lib\\site-packages (from keras) (1.16.5)\n",
      "Requirement already satisfied: h5py in c:\\users\\16313\\anaconda3\\lib\\site-packages (from keras) (2.9.0)\n",
      "Requirement already satisfied: pyyaml in c:\\users\\16313\\anaconda3\\lib\\site-packages (from keras) (5.1.2)\n",
      "Requirement already satisfied: keras-preprocessing>=1.0.5 in c:\\users\\16313\\anaconda3\\lib\\site-packages (from keras) (1.1.0)\n",
      "Requirement already satisfied: six>=1.9.0 in c:\\users\\16313\\anaconda3\\lib\\site-packages (from keras) (1.12.0)\n",
      "Requirement already satisfied: scipy>=0.14 in c:\\users\\16313\\anaconda3\\lib\\site-packages (from keras) (1.4.1)\n",
      "Requirement already satisfied: keras-applications>=1.0.6 in c:\\users\\16313\\anaconda3\\lib\\site-packages (from keras) (1.0.8)\n"
     ]
    }
   ],
   "source": [
    "import sys\n",
    "!{sys.executable} -m pip install keras"
   ]
  },
  {
   "cell_type": "code",
   "execution_count": 11,
   "metadata": {},
   "outputs": [
    {
     "name": "stdout",
     "output_type": "stream",
     "text": [
      "Requirement already satisfied: tensorflow in c:\\users\\16313\\appdata\\roaming\\python\\python37\\site-packages (2.1.0)\n",
      "Requirement already satisfied: numpy<2.0,>=1.16.0 in c:\\users\\16313\\anaconda3\\lib\\site-packages (from tensorflow) (1.16.5)\n",
      "Requirement already satisfied: scipy==1.4.1; python_version >= \"3\" in c:\\users\\16313\\anaconda3\\lib\\site-packages (from tensorflow) (1.4.1)\n",
      "Requirement already satisfied: opt-einsum>=2.3.2 in c:\\users\\16313\\anaconda3\\lib\\site-packages (from tensorflow) (3.2.1)\n",
      "Requirement already satisfied: six>=1.12.0 in c:\\users\\16313\\anaconda3\\lib\\site-packages (from tensorflow) (1.12.0)\n",
      "Requirement already satisfied: keras-applications>=1.0.8 in c:\\users\\16313\\anaconda3\\lib\\site-packages (from tensorflow) (1.0.8)\n",
      "Requirement already satisfied: keras-preprocessing>=1.1.0 in c:\\users\\16313\\anaconda3\\lib\\site-packages (from tensorflow) (1.1.0)\n",
      "Requirement already satisfied: tensorboard<2.2.0,>=2.1.0 in c:\\users\\16313\\anaconda3\\lib\\site-packages (from tensorflow) (2.1.1)\n",
      "Requirement already satisfied: wrapt>=1.11.1 in c:\\users\\16313\\anaconda3\\lib\\site-packages (from tensorflow) (1.11.2)\n",
      "Requirement already satisfied: protobuf>=3.8.0 in c:\\users\\16313\\anaconda3\\lib\\site-packages (from tensorflow) (3.11.3)\n",
      "Requirement already satisfied: gast==0.2.2 in c:\\users\\16313\\appdata\\roaming\\python\\python37\\site-packages (from tensorflow) (0.2.2)\n",
      "Requirement already satisfied: wheel>=0.26; python_version >= \"3\" in c:\\users\\16313\\anaconda3\\lib\\site-packages (from tensorflow) (0.33.6)\n",
      "Requirement already satisfied: absl-py>=0.7.0 in c:\\users\\16313\\anaconda3\\lib\\site-packages (from tensorflow) (0.9.0)\n",
      "Requirement already satisfied: grpcio>=1.8.6 in c:\\users\\16313\\anaconda3\\lib\\site-packages (from tensorflow) (1.28.1)\n",
      "Requirement already satisfied: google-pasta>=0.1.6 in c:\\users\\16313\\appdata\\roaming\\python\\python37\\site-packages (from tensorflow) (0.2.0)\n",
      "Requirement already satisfied: termcolor>=1.1.0 in c:\\users\\16313\\anaconda3\\lib\\site-packages (from tensorflow) (1.1.0)\n",
      "Requirement already satisfied: astor>=0.6.0 in c:\\users\\16313\\appdata\\roaming\\python\\python37\\site-packages (from tensorflow) (0.8.1)\n",
      "Requirement already satisfied: tensorflow-estimator<2.2.0,>=2.1.0rc0 in c:\\users\\16313\\anaconda3\\lib\\site-packages (from tensorflow) (2.1.0)\n",
      "Requirement already satisfied: h5py in c:\\users\\16313\\anaconda3\\lib\\site-packages (from keras-applications>=1.0.8->tensorflow) (2.9.0)\n",
      "Requirement already satisfied: werkzeug>=0.11.15 in c:\\users\\16313\\anaconda3\\lib\\site-packages (from tensorboard<2.2.0,>=2.1.0->tensorflow) (0.16.0)\n",
      "Requirement already satisfied: markdown>=2.6.8 in c:\\users\\16313\\anaconda3\\lib\\site-packages (from tensorboard<2.2.0,>=2.1.0->tensorflow) (3.2.1)\n",
      "Requirement already satisfied: google-auth<2,>=1.6.3 in c:\\users\\16313\\anaconda3\\lib\\site-packages (from tensorboard<2.2.0,>=2.1.0->tensorflow) (1.14.1)\n",
      "Requirement already satisfied: requests<3,>=2.21.0 in c:\\users\\16313\\anaconda3\\lib\\site-packages (from tensorboard<2.2.0,>=2.1.0->tensorflow) (2.22.0)\n",
      "Requirement already satisfied: google-auth-oauthlib<0.5,>=0.4.1 in c:\\users\\16313\\anaconda3\\lib\\site-packages (from tensorboard<2.2.0,>=2.1.0->tensorflow) (0.4.1)\n",
      "Requirement already satisfied: setuptools>=41.0.0 in c:\\users\\16313\\anaconda3\\lib\\site-packages (from tensorboard<2.2.0,>=2.1.0->tensorflow) (41.4.0)\n",
      "Requirement already satisfied: pyasn1-modules>=0.2.1 in c:\\users\\16313\\anaconda3\\lib\\site-packages (from google-auth<2,>=1.6.3->tensorboard<2.2.0,>=2.1.0->tensorflow) (0.2.8)\n",
      "Requirement already satisfied: rsa<4.1,>=3.1.4 in c:\\users\\16313\\anaconda3\\lib\\site-packages (from google-auth<2,>=1.6.3->tensorboard<2.2.0,>=2.1.0->tensorflow) (4.0)\n",
      "Requirement already satisfied: cachetools<5.0,>=2.0.0 in c:\\users\\16313\\anaconda3\\lib\\site-packages (from google-auth<2,>=1.6.3->tensorboard<2.2.0,>=2.1.0->tensorflow) (4.1.0)\n",
      "Requirement already satisfied: certifi>=2017.4.17 in c:\\users\\16313\\anaconda3\\lib\\site-packages (from requests<3,>=2.21.0->tensorboard<2.2.0,>=2.1.0->tensorflow) (2019.9.11)\n",
      "Requirement already satisfied: chardet<3.1.0,>=3.0.2 in c:\\users\\16313\\anaconda3\\lib\\site-packages (from requests<3,>=2.21.0->tensorboard<2.2.0,>=2.1.0->tensorflow) (3.0.4)\n",
      "Requirement already satisfied: urllib3!=1.25.0,!=1.25.1,<1.26,>=1.21.1 in c:\\users\\16313\\anaconda3\\lib\\site-packages (from requests<3,>=2.21.0->tensorboard<2.2.0,>=2.1.0->tensorflow) (1.24.2)\n",
      "Requirement already satisfied: idna<2.9,>=2.5 in c:\\users\\16313\\anaconda3\\lib\\site-packages (from requests<3,>=2.21.0->tensorboard<2.2.0,>=2.1.0->tensorflow) (2.8)\n",
      "Requirement already satisfied: requests-oauthlib>=0.7.0 in c:\\users\\16313\\anaconda3\\lib\\site-packages (from google-auth-oauthlib<0.5,>=0.4.1->tensorboard<2.2.0,>=2.1.0->tensorflow) (1.3.0)\n",
      "Requirement already satisfied: pyasn1<0.5.0,>=0.4.6 in c:\\users\\16313\\anaconda3\\lib\\site-packages (from pyasn1-modules>=0.2.1->google-auth<2,>=1.6.3->tensorboard<2.2.0,>=2.1.0->tensorflow) (0.4.8)\n",
      "Requirement already satisfied: oauthlib>=3.0.0 in c:\\users\\16313\\anaconda3\\lib\\site-packages (from requests-oauthlib>=0.7.0->google-auth-oauthlib<0.5,>=0.4.1->tensorboard<2.2.0,>=2.1.0->tensorflow) (3.1.0)\n"
     ]
    }
   ],
   "source": [
    "import sys\n",
    "!{sys.executable} -m pip install --user tensorflow"
   ]
  },
  {
   "cell_type": "code",
   "execution_count": 25,
   "metadata": {},
   "outputs": [
    {
     "name": "stdout",
     "output_type": "stream",
     "text": [
      "Collecting sounddevice\n",
      "  Downloading https://files.pythonhosted.org/packages/1d/7c/8b79fcfa6afce53e2ca0fff4943fa40b05a1a7afaa86d50025afd78c2b0c/sounddevice-0.3.15-py2.py3.cp26.cp27.cp32.cp33.cp34.cp35.cp36.cp37.cp38.cp39.pp27.pp32.pp33.pp34.pp35.pp36.pp37-none-win_amd64.whl (167kB)\n",
      "Requirement already satisfied: CFFI>=1.0 in c:\\users\\16313\\anaconda3\\lib\\site-packages (from sounddevice) (1.12.3)\n",
      "Requirement already satisfied: pycparser in c:\\users\\16313\\anaconda3\\lib\\site-packages (from CFFI>=1.0->sounddevice) (2.19)\n",
      "Installing collected packages: sounddevice\n",
      "Successfully installed sounddevice-0.3.15\n"
     ]
    }
   ],
   "source": [
    "import sys\n",
    "!{sys.executable} -m pip install sounddevice"
   ]
  },
  {
   "cell_type": "code",
   "execution_count": 26,
   "metadata": {},
   "outputs": [
    {
     "name": "stdout",
     "output_type": "stream",
     "text": [
      "Requirement already satisfied: soundfile in c:\\users\\16313\\anaconda3\\lib\\site-packages (0.10.3.post1)\n",
      "Requirement already satisfied: cffi>=1.0 in c:\\users\\16313\\anaconda3\\lib\\site-packages (from soundfile) (1.12.3)\n",
      "Requirement already satisfied: pycparser in c:\\users\\16313\\anaconda3\\lib\\site-packages (from cffi>=1.0->soundfile) (2.19)\n"
     ]
    }
   ],
   "source": [
    "import sys\n",
    "!{sys.executable} -m pip install soundfile"
   ]
  },
  {
   "cell_type": "markdown",
   "metadata": {},
   "source": [
    "Import the following packages"
   ]
  },
  {
   "cell_type": "code",
   "execution_count": 84,
   "metadata": {},
   "outputs": [],
   "source": [
    "import librosa   \n",
    "import os\n",
    "import numpy as np\n",
    "import matplotlib.pyplot as plt\n",
    "from scipy.io import wavfile\n",
    "import IPython.display as pyDisp\n"
   ]
  },
  {
   "cell_type": "markdown",
   "metadata": {},
   "source": [
    "Reading the Audio Signal for word left in Time-Series Domain and viuslaizing the wave"
   ]
  },
  {
   "cell_type": "code",
   "execution_count": 85,
   "metadata": {},
   "outputs": [
    {
     "data": {
      "text/plain": [
       "[<matplotlib.lines.Line2D at 0x2ec00463f08>]"
      ]
     },
     "execution_count": 85,
     "metadata": {},
     "output_type": "execute_result"
    },
    {
     "data": {
      "image/png": "[encoded data removed]",
      "text/plain": [
       "<Figure size 1008x576 with 1 Axes>"
      ]
     },
     "metadata": {
      "needs_background": "light"
     },
     "output_type": "display_data"
    }
   ],
   "source": [
    "audioPath = 'tensorflow-speech-recognition-challenge/train/audio/'\n",
    "samples, sample_rate = librosa.load(audioPath +'left wave')\n",
    "fig = plt.figure(figsize=(14, 8))\n",
    "axis = fig.add_subplot(211)\n",
    "axis.set_title('Raw wave of ' + 'left/00b01445_nohash_0.wav')\n",
    "axis.set_xlabel('time')\n",
    "axis.set_ylabel('Amplitude')\n",
    "axis.plot(np.linspace(0, sample_rate/len(samples), sample_rate), samples)"
   ]
  },
  {
   "cell_type": "markdown",
   "metadata": {},
   "source": [
    "Checking the sample rate of the input signal"
   ]
  },
  {
   "cell_type": "code",
   "execution_count": 86,
   "metadata": {},
   "outputs": [
    {
     "name": "stdout",
     "output_type": "stream",
     "text": [
      "Sampling rate of input wave:   22050\n"
     ]
    }
   ],
   "source": [
    "pyDisp.Audio(samples, rate=sample_rate)\n",
    "print(\"Sampling rate of input wave:  \",sample_rate)"
   ]
  },
  {
   "cell_type": "markdown",
   "metadata": {},
   "source": [
    "Changing the sampling rate of audio signal to 8000 Hz"
   ]
  },
  {
   "cell_type": "code",
   "execution_count": 5,
   "metadata": {},
   "outputs": [
    {
     "data": {
      "text/html": [
       "\n",
       "                <audio  controls=\"controls\" >\n",
       "                    <source src=\"data:audio/wav;base64,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\" type=\"audio/wav\" />\n",
       "                    Your browser does not support the audio element.\n",
       "                </audio>\n",
       "              "
      ],
      "text/plain": [
       "<IPython.lib.display.Audio object>"
      ]
     },
     "execution_count": 5,
     "metadata": {},
     "output_type": "execute_result"
    }
   ],
   "source": [
    "samples = librosa.resample(samples, sample_rate, 8000)\n",
    "pyDisp.Audio(samples, rate=8000)"
   ]
  },
  {
   "cell_type": "markdown",
   "metadata": {},
   "source": [
    "Counting the number of audio files for each speech command and plotting the frequency in form of bar plot"
   ]
  },
  {
   "cell_type": "code",
   "execution_count": 76,
   "metadata": {},
   "outputs": [
    {
     "data": {
      "image/png": "[encoded data removed]",
      "text/plain": [
       "<Figure size 2160x360 with 1 Axes>"
      ]
     },
     "metadata": {
      "needs_background": "light"
     },
     "output_type": "display_data"
    }
   ],
   "source": [
    "labels=os.listdir(audioPath)\n",
    "recordings=[]\n",
    "for label in labels:\n",
    "    waves = [iterate for iterate in os.listdir(audioPath + '/'+ label) if iterate.endswith('.wav')]\n",
    "    recordings.append(len(waves))\n",
    "    \n",
    "plt.figure(figsize=(30,5))\n",
    "index = np.arange(len(labels))\n",
    "plt.bar(index, recordings)\n",
    "plt.xlabel('Commands', fontsize=14)\n",
    "plt.ylabel('No of recordings', fontsize=14)\n",
    "plt.xticks(index, labels, fontsize=15, rotation=60)\n",
    "plt.title('No. of recordings for each command')\n",
    "plt.show()\n",
    "\n",
    "# labels=[\"yes\", \"no\", \"up\", \"down\", \"left\", \"right\", \"on\", \"off\", \"stop\", \"go\"]"
   ]
  },
  {
   "cell_type": "markdown",
   "metadata": {},
   "source": [
    "Plotting the time distribution of the audio files from dataset"
   ]
  },
  {
   "cell_type": "code",
   "execution_count": 77,
   "metadata": {
    "scrolled": true
   },
   "outputs": [
    {
     "data": {
      "text/plain": [
       "Text(0.5, 1.0, 'Time Distribution of audio waves')"
      ]
     },
     "execution_count": 77,
     "metadata": {},
     "output_type": "execute_result"
    },
    {
     "data": {
      "image/png": "[encoded data removed]",
      "text/plain": [
       "<Figure size 432x288 with 1 Axes>"
      ]
     },
     "metadata": {
      "needs_background": "light"
     },
     "output_type": "display_data"
    }
   ],
   "source": [
    "drecordings=[]\n",
    "for label in labels:\n",
    "    waves = [f for f in os.listdir(audioPath + '/'+ label) if f.endswith('.wav')]\n",
    "    for wav in waves:\n",
    "        sample_rate, samples = wavfile.read(audioPath + '/' + label + '/' + wav)\n",
    "        drecordings.append(float(len(samples)/sample_rate))\n",
    "    \n",
    "plt.hist(np.array(drecordings),range=[0, 2], facecolor='orange')\n",
    "plt.xlabel('Time(in seconds)', fontsize=14)\n",
    "plt.ylabel('No of waves', fontsize=14)\n",
    "plt.title('Time Distribution of audio waves')"
   ]
  },
  {
   "cell_type": "markdown",
   "metadata": {},
   "source": [
    "Removing the audio files of duration less than one second"
   ]
  },
  {
   "cell_type": "code",
   "execution_count": 8,
   "metadata": {},
   "outputs": [
    {
     "name": "stdout",
     "output_type": "stream",
     "text": [
      "bed\n",
      "bird\n",
      "cat\n",
      "dog\n",
      "down\n",
      "eight\n",
      "five\n",
      "four\n",
      "go\n",
      "happy\n",
      "house\n",
      "left\n",
      "marvin\n",
      "nine\n",
      "no\n",
      "off\n",
      "on\n",
      "one\n",
      "right\n",
      "seven\n",
      "sheila\n",
      "six\n",
      "stop\n",
      "three\n",
      "tree\n",
      "two\n",
      "up\n",
      "wow\n",
      "yes\n",
      "zero\n",
      "_background_noise_\n"
     ]
    }
   ],
   "source": [
    "every_wave = []\n",
    "each_label = []\n",
    "for label in labels:\n",
    "    print(label)\n",
    "    waves = [f for f in os.listdir('tensorflow-speech-recognition-challenge/train/audio/' + '/'+ label) if f.endswith('.wav')]\n",
    "    for wav in waves:\n",
    "        samples, sample_rate = librosa.load('tensorflow-speech-recognition-challenge/train/audio/' + '/' + label + '/' + wav, sr = 16000)\n",
    "        samples = librosa.resample(samples, sample_rate, 8000)\n",
    "        if(len(samples)== 8000) : \n",
    "            every_wave.append(samples)\n",
    "            each_label.append(label)"
   ]
  },
  {
   "cell_type": "markdown",
   "metadata": {},
   "source": [
    "Encoding the labels using one-hot encoding "
   ]
  },
  {
   "cell_type": "code",
   "execution_count": 9,
   "metadata": {},
   "outputs": [],
   "source": [
    "from sklearn.preprocessing import LabelEncoder\n",
    "le = LabelEncoder()\n",
    "y=le.fit_transform(all_label)\n",
    "classes= list(le.classes_)\n",
    "\n",
    "from keras.utils import np_utils\n",
    "y = np_utils.to_categorical(y, num_classes=len(labels))"
   ]
  },
  {
   "cell_type": "code",
   "execution_count": 13,
   "metadata": {},
   "outputs": [],
   "source": [
    "all_wave = np.array(all_wave).reshape(-1,8000,1)"
   ]
  },
  {
   "cell_type": "code",
   "execution_count": 14,
   "metadata": {},
   "outputs": [],
   "source": [
    "from sklearn.model_selection import train_test_split\n",
    "x_tr, x_val, y_tr, y_val = train_test_split(np.array(all_wave),np.array(y),stratify=y,test_size = 0.2,random_state=777,shuffle=True)"
   ]
  },
  {
   "cell_type": "markdown",
   "metadata": {},
   "source": [
    "Building the model"
   ]
  },
  {
   "cell_type": "code",
   "execution_count": 15,
   "metadata": {},
   "outputs": [
    {
     "name": "stdout",
     "output_type": "stream",
     "text": [
      "Model: \"model_1\"\n",
      "_________________________________________________________________\n",
      "Layer (type)                 Output Shape              Param #   \n",
      "=================================================================\n",
      "input_1 (InputLayer)         (None, 8000, 1)           0         \n",
      "_________________________________________________________________\n",
      "conv1d_1 (Conv1D)            (None, 7988, 8)           112       \n",
      "_________________________________________________________________\n",
      "max_pooling1d_1 (MaxPooling1 (None, 2662, 8)           0         \n",
      "_________________________________________________________________\n",
      "dropout_1 (Dropout)          (None, 2662, 8)           0         \n",
      "_________________________________________________________________\n",
      "conv1d_2 (Conv1D)            (None, 2652, 16)          1424      \n",
      "_________________________________________________________________\n",
      "max_pooling1d_2 (MaxPooling1 (None, 884, 16)           0         \n",
      "_________________________________________________________________\n",
      "dropout_2 (Dropout)          (None, 884, 16)           0         \n",
      "_________________________________________________________________\n",
      "conv1d_3 (Conv1D)            (None, 876, 32)           4640      \n",
      "_________________________________________________________________\n",
      "max_pooling1d_3 (MaxPooling1 (None, 292, 32)           0         \n",
      "_________________________________________________________________\n",
      "dropout_3 (Dropout)          (None, 292, 32)           0         \n",
      "_________________________________________________________________\n",
      "conv1d_4 (Conv1D)            (None, 286, 64)           14400     \n",
      "_________________________________________________________________\n",
      "max_pooling1d_4 (MaxPooling1 (None, 95, 64)            0         \n",
      "_________________________________________________________________\n",
      "dropout_4 (Dropout)          (None, 95, 64)            0         \n",
      "_________________________________________________________________\n",
      "flatten_1 (Flatten)          (None, 6080)              0         \n",
      "_________________________________________________________________\n",
      "dense_1 (Dense)              (None, 256)               1556736   \n",
      "_________________________________________________________________\n",
      "dropout_5 (Dropout)          (None, 256)               0         \n",
      "_________________________________________________________________\n",
      "dense_2 (Dense)              (None, 128)               32896     \n",
      "_________________________________________________________________\n",
      "dropout_6 (Dropout)          (None, 128)               0         \n",
      "_________________________________________________________________\n",
      "dense_3 (Dense)              (None, 31)                3999      \n",
      "=================================================================\n",
      "Total params: 1,614,207\n",
      "Trainable params: 1,614,207\n",
      "Non-trainable params: 0\n",
      "_________________________________________________________________\n"
     ]
    }
   ],
   "source": [
    "from keras.layers import Dense, Dropout, Flatten, Conv1D, Input, MaxPooling1D\n",
    "from keras.models import Model\n",
    "from keras.callbacks import EarlyStopping, ModelCheckpoint\n",
    "from keras import backend as K\n",
    "K.clear_session()\n",
    "\n",
    "inputs = Input(shape=(8000,1))\n",
    "\n",
    "#First Conv1D layer\n",
    "conv = Conv1D(8,13, padding='valid', activation='relu', strides=1)(inputs)\n",
    "conv = MaxPooling1D(3)(conv)\n",
    "conv = Dropout(0.3)(conv)\n",
    "\n",
    "#Second Conv1D layer\n",
    "conv = Conv1D(16, 11, padding='valid', activation='relu', strides=1)(conv)\n",
    "conv = MaxPooling1D(3)(conv)\n",
    "conv = Dropout(0.3)(conv)\n",
    "\n",
    "#Third Conv1D layer\n",
    "conv = Conv1D(32, 9, padding='valid', activation='relu', strides=1)(conv)\n",
    "conv = MaxPooling1D(3)(conv)\n",
    "conv = Dropout(0.3)(conv)\n",
    "\n",
    "#Fourth Conv1D layer\n",
    "conv = Conv1D(64, 7, padding='valid', activation='relu', strides=1)(conv)\n",
    "conv = MaxPooling1D(3)(conv)\n",
    "conv = Dropout(0.3)(conv)\n",
    "\n",
    "#Flatten layer\n",
    "conv = Flatten()(conv)\n",
    "\n",
    "#Dense Layer 1\n",
    "conv = Dense(256, activation='relu')(conv)\n",
    "conv = Dropout(0.3)(conv)\n",
    "\n",
    "#Dense Layer 2\n",
    "conv = Dense(128, activation='relu')(conv)\n",
    "conv = Dropout(0.3)(conv)\n",
    "\n",
    "outputs = Dense(len(labels), activation='softmax')(conv)\n",
    "\n",
    "model = Model(inputs, outputs)\n",
    "model.summary()"
   ]
  },
  {
   "cell_type": "code",
   "execution_count": 16,
   "metadata": {},
   "outputs": [],
   "source": [
    "model.compile(loss='categorical_crossentropy',optimizer='adam',metrics=['accuracy'])"
   ]
  },
  {
   "cell_type": "code",
   "execution_count": 17,
   "metadata": {},
   "outputs": [],
   "source": [
    "es = EarlyStopping(monitor='val_loss', mode='min', verbose=1, patience=10, min_delta=0.0001) "
   ]
  },
  {
   "cell_type": "code",
   "execution_count": 18,
   "metadata": {},
   "outputs": [
    {
     "name": "stdout",
     "output_type": "stream",
     "text": [
      "Train on 46601 samples, validate on 11651 samples\n",
      "Epoch 1/100\n",
      "46601/46601 [==============================] - 226s 5ms/step - loss: 2.8840 - accuracy: 0.1461 - val_loss: 2.0685 - val_accuracy: 0.3773\n",
      "Epoch 2/100\n",
      "46601/46601 [==============================] - 233s 5ms/step - loss: 1.8683 - accuracy: 0.4199 - val_loss: 1.3805 - val_accuracy: 0.5842\n",
      "Epoch 3/100\n",
      "46601/46601 [==============================] - 229s 5ms/step - loss: 1.4932 - accuracy: 0.5422 - val_loss: 1.1892 - val_accuracy: 0.6465\n",
      "Epoch 4/100\n",
      "46601/46601 [==============================] - 232s 5ms/step - loss: 1.3252 - accuracy: 0.5983 - val_loss: 1.1045 - val_accuracy: 0.6666\n",
      "Epoch 5/100\n",
      "46601/46601 [==============================] - 228s 5ms/step - loss: 1.2165 - accuracy: 0.6282 - val_loss: 0.9698 - val_accuracy: 0.7134\n",
      "Epoch 6/100\n",
      "46601/46601 [==============================] - 233s 5ms/step - loss: 1.1211 - accuracy: 0.6577 - val_loss: 0.8556 - val_accuracy: 0.7430\n",
      "Epoch 7/100\n",
      "46601/46601 [==============================] - 182s 4ms/step - loss: 1.0710 - accuracy: 0.6733 - val_loss: 0.8881 - val_accuracy: 0.7341\n",
      "Epoch 8/100\n",
      "46601/46601 [==============================] - 158s 3ms/step - loss: 1.0286 - accuracy: 0.6870 - val_loss: 0.7851 - val_accuracy: 0.7715\n",
      "Epoch 9/100\n",
      "46601/46601 [==============================] - 159s 3ms/step - loss: 0.9881 - accuracy: 0.6979 - val_loss: 0.7745 - val_accuracy: 0.7635\n",
      "Epoch 10/100\n",
      "46601/46601 [==============================] - 164s 4ms/step - loss: 0.9544 - accuracy: 0.7089 - val_loss: 0.7826 - val_accuracy: 0.7673\n",
      "Epoch 11/100\n",
      "46601/46601 [==============================] - 169s 4ms/step - loss: 0.9216 - accuracy: 0.7187 - val_loss: 0.7950 - val_accuracy: 0.7588\n",
      "Epoch 12/100\n",
      "46601/46601 [==============================] - 182s 4ms/step - loss: 0.8966 - accuracy: 0.7285 - val_loss: 0.7302 - val_accuracy: 0.7808\n",
      "Epoch 13/100\n",
      "46601/46601 [==============================] - 179s 4ms/step - loss: 0.8796 - accuracy: 0.7294 - val_loss: 0.7913 - val_accuracy: 0.7714\n",
      "Epoch 14/100\n",
      "46601/46601 [==============================] - 184s 4ms/step - loss: 0.8539 - accuracy: 0.7405 - val_loss: 0.7078 - val_accuracy: 0.7870\n",
      "Epoch 15/100\n",
      "46601/46601 [==============================] - 185s 4ms/step - loss: 0.8434 - accuracy: 0.7432 - val_loss: 0.6783 - val_accuracy: 0.8007\n",
      "Epoch 16/100\n",
      "46601/46601 [==============================] - 187s 4ms/step - loss: 0.8282 - accuracy: 0.7469 - val_loss: 0.6827 - val_accuracy: 0.8002\n",
      "Epoch 17/100\n",
      "46601/46601 [==============================] - 185s 4ms/step - loss: 0.8038 - accuracy: 0.7547 - val_loss: 0.6628 - val_accuracy: 0.8053\n",
      "Epoch 18/100\n",
      "46601/46601 [==============================] - 188s 4ms/step - loss: 0.7974 - accuracy: 0.7561 - val_loss: 0.6670 - val_accuracy: 0.8022\n",
      "Epoch 19/100\n",
      "46601/46601 [==============================] - 185s 4ms/step - loss: 0.7731 - accuracy: 0.7660 - val_loss: 0.6873 - val_accuracy: 0.7948\n",
      "Epoch 20/100\n",
      "46601/46601 [==============================] - 189s 4ms/step - loss: 0.7677 - accuracy: 0.7663 - val_loss: 0.7290 - val_accuracy: 0.7840\n",
      "Epoch 21/100\n",
      "46601/46601 [==============================] - 190s 4ms/step - loss: 0.7488 - accuracy: 0.7725 - val_loss: 0.6219 - val_accuracy: 0.8127\n",
      "Epoch 22/100\n",
      "46601/46601 [==============================] - 193s 4ms/step - loss: 0.7544 - accuracy: 0.7696 - val_loss: 0.6548 - val_accuracy: 0.8085\n",
      "Epoch 23/100\n",
      "46601/46601 [==============================] - 196s 4ms/step - loss: 0.7374 - accuracy: 0.7753 - val_loss: 0.6733 - val_accuracy: 0.8019\n",
      "Epoch 24/100\n",
      "46601/46601 [==============================] - 201s 4ms/step - loss: 0.7232 - accuracy: 0.7790 - val_loss: 0.6488 - val_accuracy: 0.8112\n",
      "Epoch 25/100\n",
      "46601/46601 [==============================] - 194s 4ms/step - loss: 0.7240 - accuracy: 0.7788 - val_loss: 0.6287 - val_accuracy: 0.8126\n",
      "Epoch 26/100\n",
      "46601/46601 [==============================] - 194s 4ms/step - loss: 0.7096 - accuracy: 0.7857 - val_loss: 0.6297 - val_accuracy: 0.8158\n",
      "Epoch 27/100\n",
      "46601/46601 [==============================] - 192s 4ms/step - loss: 0.7036 - accuracy: 0.7821 - val_loss: 0.6340 - val_accuracy: 0.8139\n",
      "Epoch 28/100\n",
      "46601/46601 [==============================] - 188s 4ms/step - loss: 0.6970 - accuracy: 0.7867 - val_loss: 0.6150 - val_accuracy: 0.8197\n",
      "Epoch 29/100\n",
      "46601/46601 [==============================] - 199s 4ms/step - loss: 0.6859 - accuracy: 0.7913 - val_loss: 0.6133 - val_accuracy: 0.8156\n",
      "Epoch 30/100\n",
      "46601/46601 [==============================] - 217s 5ms/step - loss: 0.6785 - accuracy: 0.7927 - val_loss: 0.6763 - val_accuracy: 0.8012\n",
      "Epoch 31/100\n",
      "46601/46601 [==============================] - 217s 5ms/step - loss: 0.6830 - accuracy: 0.7908 - val_loss: 0.6278 - val_accuracy: 0.8122\n",
      "Epoch 32/100\n",
      "46601/46601 [==============================] - 224s 5ms/step - loss: 0.6802 - accuracy: 0.7930 - val_loss: 0.6276 - val_accuracy: 0.8143\n",
      "Epoch 33/100\n",
      "46601/46601 [==============================] - 222s 5ms/step - loss: 0.6613 - accuracy: 0.7990 - val_loss: 0.6269 - val_accuracy: 0.8130\n",
      "Epoch 34/100\n",
      "46601/46601 [==============================] - 223s 5ms/step - loss: 0.6567 - accuracy: 0.7990 - val_loss: 0.6247 - val_accuracy: 0.8130\n",
      "Epoch 35/100\n",
      "46601/46601 [==============================] - 236s 5ms/step - loss: 0.6598 - accuracy: 0.7994 - val_loss: 0.6530 - val_accuracy: 0.8037\n",
      "Epoch 36/100\n",
      "46601/46601 [==============================] - 234s 5ms/step - loss: 0.6475 - accuracy: 0.8039 - val_loss: 0.6178 - val_accuracy: 0.8156\n",
      "Epoch 37/100\n",
      "46601/46601 [==============================] - 243s 5ms/step - loss: 0.6424 - accuracy: 0.8035 - val_loss: 0.6194 - val_accuracy: 0.8106\n",
      "Epoch 38/100\n",
      "46601/46601 [==============================] - 244s 5ms/step - loss: 0.6407 - accuracy: 0.8042 - val_loss: 0.6402 - val_accuracy: 0.8097\n",
      "Epoch 39/100\n",
      "46601/46601 [==============================] - 243s 5ms/step - loss: 0.6364 - accuracy: 0.8050 - val_loss: 0.5818 - val_accuracy: 0.8293\n",
      "Epoch 40/100\n",
      "46601/46601 [==============================] - 235s 5ms/step - loss: 0.6330 - accuracy: 0.8056 - val_loss: 0.5936 - val_accuracy: 0.8230\n",
      "Epoch 41/100\n",
      "46601/46601 [==============================] - 235s 5ms/step - loss: 0.6304 - accuracy: 0.8085 - val_loss: 0.5828 - val_accuracy: 0.8252\n",
      "Epoch 42/100\n",
      "46601/46601 [==============================] - 236s 5ms/step - loss: 0.6347 - accuracy: 0.8075 - val_loss: 0.6204 - val_accuracy: 0.8138\n",
      "Epoch 43/100\n",
      "46601/46601 [==============================] - 234s 5ms/step - loss: 0.6274 - accuracy: 0.8099 - val_loss: 0.6593 - val_accuracy: 0.8019\n",
      "Epoch 44/100\n",
      "46601/46601 [==============================] - 236s 5ms/step - loss: 0.6168 - accuracy: 0.8114 - val_loss: 0.5801 - val_accuracy: 0.8251\n",
      "Epoch 45/100\n",
      "46601/46601 [==============================] - 236s 5ms/step - loss: 0.6086 - accuracy: 0.8136 - val_loss: 0.5940 - val_accuracy: 0.8225\n",
      "Epoch 46/100\n",
      "46601/46601 [==============================] - 236s 5ms/step - loss: 0.6170 - accuracy: 0.8140 - val_loss: 0.6097 - val_accuracy: 0.8178\n",
      "Epoch 47/100\n",
      "46601/46601 [==============================] - 237s 5ms/step - loss: 0.6033 - accuracy: 0.8157 - val_loss: 0.6013 - val_accuracy: 0.8244\n",
      "Epoch 48/100\n",
      "46601/46601 [==============================] - 236s 5ms/step - loss: 0.5972 - accuracy: 0.8184 - val_loss: 0.5407 - val_accuracy: 0.8391\n",
      "Epoch 49/100\n",
      "46601/46601 [==============================] - 229s 5ms/step - loss: 0.6103 - accuracy: 0.8138 - val_loss: 0.5805 - val_accuracy: 0.8242\n",
      "Epoch 50/100\n",
      "46601/46601 [==============================] - 231s 5ms/step - loss: 0.5927 - accuracy: 0.8195 - val_loss: 0.6552 - val_accuracy: 0.8030\n",
      "Epoch 51/100\n",
      "46601/46601 [==============================] - 228s 5ms/step - loss: 0.5904 - accuracy: 0.8217 - val_loss: 0.6066 - val_accuracy: 0.8190\n",
      "Epoch 52/100\n",
      "46601/46601 [==============================] - 220s 5ms/step - loss: 0.5858 - accuracy: 0.8214 - val_loss: 0.5805 - val_accuracy: 0.8268\n",
      "Epoch 53/100\n",
      "46601/46601 [==============================] - 218s 5ms/step - loss: 0.5888 - accuracy: 0.8220 - val_loss: 0.5870 - val_accuracy: 0.8259\n",
      "Epoch 54/100\n",
      "46601/46601 [==============================] - 222s 5ms/step - loss: 0.5837 - accuracy: 0.8215 - val_loss: 0.5745 - val_accuracy: 0.8301\n",
      "Epoch 55/100\n",
      "46601/46601 [==============================] - 230s 5ms/step - loss: 0.5777 - accuracy: 0.8231 - val_loss: 0.5892 - val_accuracy: 0.8222\n",
      "Epoch 56/100\n",
      "46601/46601 [==============================] - 228s 5ms/step - loss: 0.5822 - accuracy: 0.8240 - val_loss: 0.5905 - val_accuracy: 0.8286\n",
      "Epoch 57/100\n",
      "46601/46601 [==============================] - 223s 5ms/step - loss: 0.5742 - accuracy: 0.8262 - val_loss: 0.5571 - val_accuracy: 0.8360\n",
      "Epoch 58/100\n",
      "46601/46601 [==============================] - 226s 5ms/step - loss: 0.5739 - accuracy: 0.8260 - val_loss: 0.5717 - val_accuracy: 0.8295\n",
      "Epoch 00058: early stopping\n"
     ]
    }
   ],
   "source": [
    "history=model.fit(x_tr, y_tr ,epochs=100, callbacks=[es,mc], batch_size=32, validation_data=(x_val,y_val))"
   ]
  },
  {
   "cell_type": "markdown",
   "metadata": {},
   "source": [
    "Plotting the Loss for with every epochs"
   ]
  },
  {
   "cell_type": "code",
   "execution_count": 79,
   "metadata": {},
   "outputs": [
    {
     "data": {
      "image/png": "[encoded data removed]",
      "text/plain": [
       "<Figure size 432x288 with 1 Axes>"
      ]
     },
     "metadata": {
      "needs_background": "light"
     },
     "output_type": "display_data"
    }
   ],
   "source": [
    "from matplotlib import pyplot \n",
    "pyplot.plot(history.history['loss'], label='train') \n",
    "pyplot.plot(history.history['val_loss'], label='test') \n",
    "pyplot.ylabel(\"Loss\")\n",
    "pyplot.xlabel(\"epochs\")\n",
    "pyplot.legend() \n",
    "pyplot.show()"
   ]
  },
  {
   "cell_type": "markdown",
   "metadata": {},
   "source": [
    "Predict function "
   ]
  },
  {
   "cell_type": "code",
   "execution_count": 22,
   "metadata": {},
   "outputs": [],
   "source": [
    "def predict(audio):\n",
    "    prob = model.predict(audio.reshape(1,8000,1))\n",
    "    index = np.argmax(prob[0])\n",
    "    return classes[index]"
   ]
  },
  {
   "cell_type": "code",
   "execution_count": 23,
   "metadata": {},
   "outputs": [
    {
     "name": "stdout",
     "output_type": "stream",
     "text": [
      "Audio: six\n",
      "Text: six\n"
     ]
    }
   ],
   "source": [
    "import random\n",
    "index=random.randint(0,len(x_val)-1)\n",
    "samples=x_val[index].ravel()\n",
    "print(\"Audio:\",classes[np.argmax(y_val[index])])\n",
    "pyDisp.Audio(samples, rate=8000)\n",
    "print(\"Text:\",predict(samples))"
   ]
  },
  {
   "cell_type": "markdown",
   "metadata": {},
   "source": [
    "Record your own test command"
   ]
  },
  {
   "cell_type": "code",
   "execution_count": 73,
   "metadata": {
    "scrolled": true
   },
   "outputs": [
    {
     "name": "stdout",
     "output_type": "stream",
     "text": [
      "start\n",
      "end\n"
     ]
    }
   ],
   "source": [
    "import sounddevice as sd\n",
    "import soundfile as sf\n",
    "\n",
    "samplerate = 16000  \n",
    "duration = 1 # seconds\n",
    "filename = 'testCommand.wav'\n",
    "print(\"start\")\n",
    "mydata = sd.rec(int(samplerate * duration), samplerate=samplerate,\n",
    "    channels=1, blocking=True)\n",
    "print(\"end\")\n",
    "sd.wait()\n",
    "sf.write(filename, mydata, samplerate)"
   ]
  },
  {
   "cell_type": "markdown",
   "metadata": {},
   "source": [
    "Predicting the output for recorded command"
   ]
  },
  {
   "cell_type": "code",
   "execution_count": 74,
   "metadata": {},
   "outputs": [
    {
     "data": {
      "text/plain": [
       "'happy'"
      ]
     },
     "execution_count": 74,
     "metadata": {},
     "output_type": "execute_result"
    }
   ],
   "source": [
    "samples, sample_rate = librosa.load('testCommand.wav', sr = 16000)\n",
    "samples = librosa.resample(samples, sample_rate, 8000)\n",
    "pyDisp.Audio(samples,rate=8000)  \n",
    "\n",
    "predict(samples)"
   ]
  }
 ],
 "metadata": {
  "kernelspec": {
   "display_name": "Python 3",
   "language": "python",
   "name": "python3"
  },
  "language_info": {
   "codemirror_mode": {
    "name": "ipython",
    "version": 3
   },
   "file_extension": ".py",
   "mimetype": "text/x-python",
   "name": "python",
   "nbconvert_exporter": "python",
   "pygments_lexer": "ipython3",
   "version": "3.7.3"
  }
 },
 "nbformat": 4,
 "nbformat_minor": 2
}
